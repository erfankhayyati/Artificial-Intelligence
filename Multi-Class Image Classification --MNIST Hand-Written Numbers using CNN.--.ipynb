{
 "cells": [
  {
   "cell_type": "code",
   "execution_count": 1,
   "id": "5bc76538",
   "metadata": {},
   "outputs": [],
   "source": [
    "import numpy as np\n",
    "import matplotlib.pyplot as plt\n",
    "%matplotlib inline"
   ]
  },
  {
   "cell_type": "code",
   "execution_count": 2,
   "id": "9af40ad3",
   "metadata": {},
   "outputs": [],
   "source": [
    "from keras.utils import to_categorical\n",
    "from keras.models import Sequential\n",
    "from keras.layers import Dense, Dropout, Conv2D, MaxPooling2D, Flatten"
   ]
  },
  {
   "cell_type": "code",
   "execution_count": 3,
   "id": "9ac0ced3",
   "metadata": {},
   "outputs": [],
   "source": [
    "from keras.datasets import mnist"
   ]
  },
  {
   "cell_type": "code",
   "execution_count": 4,
   "id": "d872e719",
   "metadata": {},
   "outputs": [],
   "source": [
    "(x_train, y_train), (x_test, y_test) = mnist.load_data()"
   ]
  },
  {
   "cell_type": "code",
   "execution_count": 5,
   "id": "d7ca6059",
   "metadata": {},
   "outputs": [],
   "source": [
    "def print_data_info(x_train, y_train, x_test, y_test):\n",
    "    #check the data type\n",
    "    print('x_train type is: {}'.format(type(x_train)))\n",
    "    print('y_train type is: {}'.format(type(y_train)))    \n",
    "    #check the data shape\n",
    "    print('\\nx_train shape is:{}'.format(x_train.shape))\n",
    "    print('x_test shape is:{}'.format(x_test.shape))    \n",
    "    print('y_train shape is:{}'.format(y_train.shape))    \n",
    "    print('y_test shape is:{}'.format(y_test.shape))  \n",
    "    #data sample\n",
    "    print('y_test[0] is:{}'.format(y_test[0]))"
   ]
  },
  {
   "cell_type": "code",
   "execution_count": 6,
   "id": "06e3f0a0",
   "metadata": {},
   "outputs": [
    {
     "name": "stdout",
     "output_type": "stream",
     "text": [
      "x_train type is: <class 'numpy.ndarray'>\n",
      "y_train type is: <class 'numpy.ndarray'>\n",
      "\n",
      "x_train shape is:(60000, 28, 28)\n",
      "x_test shape is:(10000, 28, 28)\n",
      "y_train shape is:(60000,)\n",
      "y_test shape is:(10000,)\n",
      "y_test[0] is:7\n"
     ]
    }
   ],
   "source": [
    "print_data_info(x_train, y_train, x_test, y_test)"
   ]
  },
  {
   "cell_type": "code",
   "execution_count": 7,
   "id": "24e015db",
   "metadata": {},
   "outputs": [],
   "source": [
    "x_train = np.array(x_train)\n",
    "x_test = np.array(x_test)"
   ]
  },
  {
   "cell_type": "code",
   "execution_count": 8,
   "id": "c8e3876e",
   "metadata": {},
   "outputs": [],
   "source": [
    "x_train = x_train.astype('float32')\n",
    "x_test = x_test.astype('float32')"
   ]
  },
  {
   "cell_type": "code",
   "execution_count": 9,
   "id": "36fcca32",
   "metadata": {},
   "outputs": [],
   "source": [
    "x_train /= 255\n",
    "x_test /= 255"
   ]
  },
  {
   "cell_type": "code",
   "execution_count": null,
   "id": "d6a11f9a",
   "metadata": {},
   "outputs": [],
   "source": [
    "x_train = x_train.reshape((60000, 784))\n",
    "x_test = x_test.reshape((10000, 784))"
   ]
  },
  {
   "cell_type": "code",
   "execution_count": 10,
   "id": "f36912e3",
   "metadata": {},
   "outputs": [],
   "source": [
    "\n",
    "y_train = to_categorical(y_train)\n",
    "y_test = to_categorical(y_test)"
   ]
  },
  {
   "cell_type": "code",
   "execution_count": 11,
   "id": "806efb20",
   "metadata": {},
   "outputs": [
    {
     "name": "stdout",
     "output_type": "stream",
     "text": [
      "x_train type is: <class 'numpy.ndarray'>\n",
      "y_train type is: <class 'numpy.ndarray'>\n",
      "\n",
      "x_train shape is:(60000, 28, 28)\n",
      "x_test shape is:(10000, 28, 28)\n",
      "y_train shape is:(60000, 10)\n",
      "y_test shape is:(10000, 10)\n",
      "y_test[0] is:[0. 0. 0. 0. 0. 0. 0. 1. 0. 0.]\n"
     ]
    }
   ],
   "source": [
    "print_data_info(x_train, y_train, x_test, y_test)"
   ]
  },
  {
   "cell_type": "code",
   "execution_count": null,
   "id": "b1b2676e",
   "metadata": {},
   "outputs": [],
   "source": [
    "# Model\n",
    "model = Sequential()\n",
    "model.add(Dense(512, activation='relu', input_dim=784 ))\n",
    "model.add(Dense(10, activation='softmax'))"
   ]
  },
  {
   "cell_type": "code",
   "execution_count": null,
   "id": "aa42ff4f",
   "metadata": {},
   "outputs": [],
   "source": [
    "#compile\n",
    "\n",
    "model.compile(loss='categorical_crossentropy',optimizer= 'rmsprop', metrics=['acc'])"
   ]
  },
  {
   "cell_type": "code",
   "execution_count": null,
   "id": "f7f1161f",
   "metadata": {},
   "outputs": [],
   "source": [
    "model.fit(x_train,y_train,\n",
    "         epochs=5,\n",
    "         validation_split=0.2,\n",
    "         batch_size = 128)"
   ]
  },
  {
   "cell_type": "code",
   "execution_count": null,
   "id": "738b2d4a",
   "metadata": {},
   "outputs": [],
   "source": [
    "model.evaluate(x_test, y_test)"
   ]
  },
  {
   "cell_type": "code",
   "execution_count": 225,
   "id": "e3dc3c10",
   "metadata": {},
   "outputs": [],
   "source": [
    "(x_train, y_train), (x_test, y_test) = mnist.load_data()"
   ]
  },
  {
   "cell_type": "code",
   "execution_count": 226,
   "id": "5db7fa55",
   "metadata": {},
   "outputs": [
    {
     "name": "stdout",
     "output_type": "stream",
     "text": [
      "x_train type is: <class 'numpy.ndarray'>\n",
      "y_train type is: <class 'numpy.ndarray'>\n",
      "\n",
      "x_train shape is:(60000, 28, 28)\n",
      "x_test shape is:(10000, 28, 28)\n",
      "y_train shape is:(60000,)\n",
      "y_test shape is:(10000,)\n",
      "y_test[0] is:7\n"
     ]
    }
   ],
   "source": [
    "print_data_info(x_train, y_train, x_test, y_test)"
   ]
  },
  {
   "cell_type": "code",
   "execution_count": 227,
   "id": "6d056fb9",
   "metadata": {},
   "outputs": [],
   "source": [
    "x_train = np.array(x_train)\n",
    "x_test = np.array(x_test)"
   ]
  },
  {
   "cell_type": "code",
   "execution_count": 228,
   "id": "7d049af5",
   "metadata": {},
   "outputs": [],
   "source": [
    "x_train = x_train.reshape((-1, 28,28,1))\n",
    "x_test = x_test.reshape((-1, 28,28,1))\n",
    "\n",
    "x_train = x_train.astype('float32')/255\n",
    "x_test = x_test.astype('float32')/255"
   ]
  },
  {
   "cell_type": "code",
   "execution_count": 229,
   "id": "9ec99831",
   "metadata": {},
   "outputs": [],
   "source": [
    "y_train = to_categorical(y_train)\n",
    "y_test = to_categorical(y_test)"
   ]
  },
  {
   "cell_type": "code",
   "execution_count": 230,
   "id": "8124a7ec",
   "metadata": {},
   "outputs": [
    {
     "name": "stdout",
     "output_type": "stream",
     "text": [
      "x_train type is: <class 'numpy.ndarray'>\n",
      "y_train type is: <class 'numpy.ndarray'>\n",
      "\n",
      "x_train shape is:(60000, 28, 28, 1)\n",
      "x_test shape is:(10000, 28, 28, 1)\n",
      "y_train shape is:(60000, 10)\n",
      "y_test shape is:(10000, 10)\n",
      "y_test[0] is:[0. 0. 0. 0. 0. 0. 0. 1. 0. 0.]\n"
     ]
    }
   ],
   "source": [
    "print_data_info(x_train, y_train, x_test, y_test)"
   ]
  },
  {
   "cell_type": "code",
   "execution_count": 231,
   "id": "581ddeaf",
   "metadata": {},
   "outputs": [],
   "source": [
    "model = Sequential()\n",
    "\n",
    "model.add(Conv2D(32,(3,3),activation='relu',input_shape=(28,28,1)))\n",
    "model.add(MaxPooling2D((2,2)))\n",
    "model.add(Conv2D(64,(3,3),activation='relu'))\n",
    "model.add(MaxPooling2D((2,2)))\n",
    "model.add(Conv2D(64,(3,3),activation='relu'))\n",
    "model.add(Flatten())\n",
    "model.add(Dense(64,activation='relu'))\n",
    "model.add(Dense(10,activation='softmax'))\n",
    "\n",
    "#compile\n",
    "\n",
    "model.compile(loss='categorical_crossentropy',optimizer= 'rmsprop', metrics=['acc'])"
   ]
  },
  {
   "cell_type": "code",
   "execution_count": 232,
   "id": "b095975e",
   "metadata": {},
   "outputs": [
    {
     "name": "stdout",
     "output_type": "stream",
     "text": [
      "Model: \"sequential_22\"\n",
      "_________________________________________________________________\n",
      " Layer (type)                Output Shape              Param #   \n",
      "=================================================================\n",
      " conv2d_66 (Conv2D)          (None, 26, 26, 32)        320       \n",
      "                                                                 \n",
      " max_pooling2d_44 (MaxPoolin  (None, 13, 13, 32)       0         \n",
      " g2D)                                                            \n",
      "                                                                 \n",
      " conv2d_67 (Conv2D)          (None, 11, 11, 64)        18496     \n",
      "                                                                 \n",
      " max_pooling2d_45 (MaxPoolin  (None, 5, 5, 64)         0         \n",
      " g2D)                                                            \n",
      "                                                                 \n",
      " conv2d_68 (Conv2D)          (None, 3, 3, 64)          36928     \n",
      "                                                                 \n",
      " flatten_22 (Flatten)        (None, 576)               0         \n",
      "                                                                 \n",
      " dense_44 (Dense)            (None, 64)                36928     \n",
      "                                                                 \n",
      " dense_45 (Dense)            (None, 10)                650       \n",
      "                                                                 \n",
      "=================================================================\n",
      "Total params: 93,322\n",
      "Trainable params: 93,322\n",
      "Non-trainable params: 0\n",
      "_________________________________________________________________\n"
     ]
    }
   ],
   "source": [
    "model.summary()"
   ]
  },
  {
   "cell_type": "code",
   "execution_count": 233,
   "id": "574ce262",
   "metadata": {},
   "outputs": [
    {
     "name": "stdout",
     "output_type": "stream",
     "text": [
      "Epoch 1/5\n",
      "844/844 [==============================] - 7s 8ms/step - loss: 0.1866 - acc: 0.9417 - val_loss: 0.0644 - val_acc: 0.9825\n",
      "Epoch 2/5\n",
      "844/844 [==============================] - 6s 7ms/step - loss: 0.0502 - acc: 0.9843 - val_loss: 0.0475 - val_acc: 0.9887\n",
      "Epoch 3/5\n",
      "844/844 [==============================] - 6s 7ms/step - loss: 0.0337 - acc: 0.9895 - val_loss: 0.0411 - val_acc: 0.9893\n",
      "Epoch 4/5\n",
      "844/844 [==============================] - 6s 7ms/step - loss: 0.0253 - acc: 0.9924 - val_loss: 0.0410 - val_acc: 0.9882\n",
      "Epoch 5/5\n",
      "844/844 [==============================] - 6s 7ms/step - loss: 0.0206 - acc: 0.9938 - val_loss: 0.0355 - val_acc: 0.9912\n"
     ]
    }
   ],
   "source": [
    "history = model.fit(x_train,y_train,\n",
    "         epochs=5,\n",
    "         validation_split=0.1,\n",
    "         batch_size = 64)\n"
   ]
  },
  {
   "cell_type": "code",
   "execution_count": 234,
   "id": "6f78f97e",
   "metadata": {},
   "outputs": [
    {
     "name": "stdout",
     "output_type": "stream",
     "text": [
      "313/313 [==============================] - 1s 2ms/step - loss: 0.0288 - acc: 0.9917\n"
     ]
    },
    {
     "data": {
      "text/plain": [
       "[0.028818326070904732, 0.9916999936103821]"
      ]
     },
     "execution_count": 234,
     "metadata": {},
     "output_type": "execute_result"
    }
   ],
   "source": [
    "model.evaluate(x_test, y_test)"
   ]
  },
  {
   "cell_type": "code",
   "execution_count": null,
   "id": "0dec7bc9",
   "metadata": {},
   "outputs": [],
   "source": []
  },
  {
   "cell_type": "code",
   "execution_count": null,
   "id": "30c0ed85",
   "metadata": {},
   "outputs": [],
   "source": []
  },
  {
   "cell_type": "code",
   "execution_count": null,
   "id": "abaf6592",
   "metadata": {},
   "outputs": [],
   "source": []
  },
  {
   "cell_type": "code",
   "execution_count": null,
   "id": "0dd65153",
   "metadata": {},
   "outputs": [],
   "source": []
  },
  {
   "cell_type": "code",
   "execution_count": null,
   "id": "6e7865f9",
   "metadata": {},
   "outputs": [],
   "source": []
  },
  {
   "cell_type": "code",
   "execution_count": null,
   "id": "c9a40630",
   "metadata": {},
   "outputs": [],
   "source": []
  },
  {
   "cell_type": "code",
   "execution_count": null,
   "id": "3cabdcc5",
   "metadata": {},
   "outputs": [],
   "source": []
  },
  {
   "cell_type": "code",
   "execution_count": null,
   "id": "a95da93f",
   "metadata": {},
   "outputs": [],
   "source": []
  }
 ],
 "metadata": {
  "kernelspec": {
   "display_name": "Python 3 (ipykernel)",
   "language": "python",
   "name": "python3"
  },
  "language_info": {
   "codemirror_mode": {
    "name": "ipython",
    "version": 3
   },
   "file_extension": ".py",
   "mimetype": "text/x-python",
   "name": "python",
   "nbconvert_exporter": "python",
   "pygments_lexer": "ipython3",
   "version": "3.9.13"
  }
 },
 "nbformat": 4,
 "nbformat_minor": 5
}
