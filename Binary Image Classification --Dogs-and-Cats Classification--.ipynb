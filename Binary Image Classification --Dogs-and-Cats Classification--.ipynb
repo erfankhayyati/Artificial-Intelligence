{
 "cells": [
  {
   "cell_type": "code",
   "execution_count": 1,
   "id": "15daef23",
   "metadata": {},
   "outputs": [],
   "source": [
    "import os,shutil"
   ]
  },
  {
   "cell_type": "code",
   "execution_count": 2,
   "id": "07075695",
   "metadata": {},
   "outputs": [],
   "source": [
    "original_dataset_dir = '/Users/erfan/Desktop/dogs-vs-cats'"
   ]
  },
  {
   "cell_type": "code",
   "execution_count": 3,
   "id": "d065b393",
   "metadata": {},
   "outputs": [],
   "source": [
    "base_dir = '/Users/erfan/Desktop/dogs-vs-cats/database small'"
   ]
  },
  {
   "cell_type": "code",
   "execution_count": 4,
   "id": "6e9f36ef",
   "metadata": {},
   "outputs": [],
   "source": [
    "os.mkdir(base_dir)"
   ]
  },
  {
   "cell_type": "code",
   "execution_count": 5,
   "id": "7277ca91",
   "metadata": {},
   "outputs": [],
   "source": [
    "# Make directories\n",
    "train_dir = os.path.join(base_dir, 'train')\n",
    "os.mkdir(train_dir)\n",
    "\n",
    "validation_dir = os.path.join(base_dir, 'validation')\n",
    "os.mkdir(validation_dir)\n",
    "\n",
    "test_dir = os.path.join(base_dir, 'test')\n",
    "os.mkdir(test_dir)"
   ]
  },
  {
   "cell_type": "code",
   "execution_count": 6,
   "id": "57917c29",
   "metadata": {},
   "outputs": [],
   "source": [
    "train_cats_dir = os.path.join(train_dir, 'cats')\n",
    "os.mkdir(train_cats_dir)\n",
    "\n",
    "train_dogs_dir = os.path.join(train_dir, 'dogs')\n",
    "os.mkdir(train_dogs_dir)\n",
    "\n",
    "validation_cats_dir = os.path.join(validation_dir, 'cats')\n",
    "os.mkdir(validation_cats_dir)\n",
    "\n",
    "validation_dogs_dir = os.path.join(validation_dir, 'dogs')\n",
    "os.mkdir(validation_dogs_dir)\n",
    "\n",
    "test_cats_dir = os.path.join(test_dir, 'cats')\n",
    "os.mkdir(test_cats_dir)\n",
    "\n",
    "test_dogs_dir = os.path.join(test_dir, 'dogs')\n",
    "os.mkdir(test_dogs_dir)"
   ]
  },
  {
   "cell_type": "code",
   "execution_count": 7,
   "id": "fb13c96b",
   "metadata": {},
   "outputs": [],
   "source": [
    "# Fill directories\n",
    "fnames = ['cat.{}.jpg'.format(i) for i in range(1000)]\n",
    "for fname in fnames:\n",
    "    src = os.path.join(original_dataset_dir, fname)\n",
    "    dst = os.path.join(train_cats_dir, fname)    \n",
    "    shutil.copyfile(src, dst)"
   ]
  },
  {
   "cell_type": "code",
   "execution_count": 8,
   "id": "456c2977",
   "metadata": {},
   "outputs": [],
   "source": [
    "fnames = ['cat.{}.jpg'.format(i) for i in range(1000,1500)]\n",
    "for fname in fnames:\n",
    "    src = os.path.join(original_dataset_dir, fname)\n",
    "    dst = os.path.join(validation_cats_dir, fname)    \n",
    "    shutil.copyfile(src, dst)"
   ]
  },
  {
   "cell_type": "code",
   "execution_count": 9,
   "id": "1db7f3ec",
   "metadata": {},
   "outputs": [],
   "source": [
    "fnames = ['cat.{}.jpg'.format(i) for i in range(1500,2000)]\n",
    "for fname in fnames:\n",
    "    src = os.path.join(original_dataset_dir, fname)\n",
    "    dst = os.path.join(test_cats_dir, fname)    \n",
    "    shutil.copyfile(src, dst)"
   ]
  },
  {
   "cell_type": "code",
   "execution_count": 10,
   "id": "0f93573d",
   "metadata": {},
   "outputs": [],
   "source": [
    "fnames = ['dog.{}.jpg'.format(i) for i in range(1000)]\n",
    "for fname in fnames:\n",
    "    src = os.path.join(original_dataset_dir, fname)\n",
    "    dst = os.path.join(train_dogs_dir, fname)    \n",
    "    shutil.copyfile(src, dst)"
   ]
  },
  {
   "cell_type": "code",
   "execution_count": 11,
   "id": "5a236a41",
   "metadata": {},
   "outputs": [],
   "source": [
    "fnames = ['dog.{}.jpg'.format(i) for i in range(1000,1500)]\n",
    "for fname in fnames:\n",
    "    src = os.path.join(original_dataset_dir, fname)\n",
    "    dst = os.path.join(validation_dogs_dir, fname)    \n",
    "    shutil.copyfile(src, dst)"
   ]
  },
  {
   "cell_type": "code",
   "execution_count": 12,
   "id": "1ca43ec1",
   "metadata": {},
   "outputs": [],
   "source": [
    "fnames = ['dog.{}.jpg'.format(i) for i in range(1500,2000)]\n",
    "for fname in fnames:\n",
    "    src = os.path.join(original_dataset_dir, fname)\n",
    "    dst = os.path.join(test_dogs_dir, fname)    \n",
    "    shutil.copyfile(src, dst)"
   ]
  },
  {
   "cell_type": "code",
   "execution_count": 13,
   "id": "beb44fb2",
   "metadata": {},
   "outputs": [
    {
     "name": "stdout",
     "output_type": "stream",
     "text": [
      "total training cat images: 1000\n",
      "total training dog images: 1000\n",
      "total validation cat images: 500\n",
      "total validation dog images: 500\n",
      "total test cat images: 500\n",
      "total test dog images: 500\n"
     ]
    }
   ],
   "source": [
    "print('total training cat images:', len(os.listdir(train_cats_dir)))\n",
    "print('total training dog images:', len(os.listdir(train_dogs_dir)))\n",
    "print('total validation cat images:', len(os.listdir(validation_cats_dir)))\n",
    "print('total validation dog images:', len(os.listdir(validation_dogs_dir)))\n",
    "print('total test cat images:', len(os.listdir(test_cats_dir)))\n",
    "print('total test dog images:', len(os.listdir(test_dogs_dir)))"
   ]
  },
  {
   "cell_type": "code",
   "execution_count": 14,
   "id": "5f2abd61",
   "metadata": {},
   "outputs": [],
   "source": [
    "from keras.layers import Dense,MaxPooling2D,Conv2D,Flatten\n",
    "from keras.models import Sequential\n"
   ]
  },
  {
   "cell_type": "code",
   "execution_count": 36,
   "id": "8821a3dd",
   "metadata": {},
   "outputs": [],
   "source": [
    "\n",
    "model = Sequential()\n",
    "model.add(Conv2D(32, (3, 3), activation='relu', input_shape=(150, 150, 3)))\n",
    "model.add(MaxPooling2D((2, 2)))\n",
    "model.add(Conv2D(64, (3, 3), activation='relu'))\n",
    "model.add(MaxPooling2D((2, 2)))\n",
    "model.add(Conv2D(128, (3, 3), activation='relu'))\n",
    "model.add(MaxPooling2D((2, 2)))\n",
    "model.add(Conv2D(128, (3, 3), activation='relu'))\n",
    "model.add(MaxPooling2D((2, 2)))\n",
    "model.add(Flatten())\n",
    "model.add(Dense(512, activation='relu'))\n",
    "model.add(Dense(1, activation='sigmoid'))"
   ]
  },
  {
   "cell_type": "code",
   "execution_count": 15,
   "id": "8813b7c4",
   "metadata": {},
   "outputs": [],
   "source": [
    "from keras import optimizers"
   ]
  },
  {
   "cell_type": "code",
   "execution_count": 37,
   "id": "f6be7cfd",
   "metadata": {},
   "outputs": [],
   "source": [
    "\n",
    "model.compile(loss='binary_crossentropy',\n",
    "             optimizer=optimizers.RMSprop(learning_rate=1e-4),\n",
    "             metrics=['acc'])"
   ]
  },
  {
   "cell_type": "code",
   "execution_count": 21,
   "id": "cc6e2695",
   "metadata": {},
   "outputs": [
    {
     "name": "stdout",
     "output_type": "stream",
     "text": [
      "Model: \"sequential\"\n",
      "_________________________________________________________________\n",
      " Layer (type)                Output Shape              Param #   \n",
      "=================================================================\n",
      " conv2d (Conv2D)             (None, 148, 148, 32)      896       \n",
      "                                                                 \n",
      " max_pooling2d (MaxPooling2D  (None, 74, 74, 32)       0         \n",
      " )                                                               \n",
      "                                                                 \n",
      " conv2d_1 (Conv2D)           (None, 72, 72, 64)        18496     \n",
      "                                                                 \n",
      " max_pooling2d_1 (MaxPooling  (None, 36, 36, 64)       0         \n",
      " 2D)                                                             \n",
      "                                                                 \n",
      " conv2d_2 (Conv2D)           (None, 34, 34, 128)       73856     \n",
      "                                                                 \n",
      " max_pooling2d_2 (MaxPooling  (None, 17, 17, 128)      0         \n",
      " 2D)                                                             \n",
      "                                                                 \n",
      " conv2d_3 (Conv2D)           (None, 15, 15, 128)       147584    \n",
      "                                                                 \n",
      " max_pooling2d_3 (MaxPooling  (None, 7, 7, 128)        0         \n",
      " 2D)                                                             \n",
      "                                                                 \n",
      " flatten (Flatten)           (None, 6272)              0         \n",
      "                                                                 \n",
      " dense (Dense)               (None, 512)               3211776   \n",
      "                                                                 \n",
      " dense_1 (Dense)             (None, 1)                 513       \n",
      "                                                                 \n",
      "=================================================================\n",
      "Total params: 3,453,121\n",
      "Trainable params: 3,453,121\n",
      "Non-trainable params: 0\n",
      "_________________________________________________________________\n"
     ]
    }
   ],
   "source": [
    "model.summary()"
   ]
  },
  {
   "cell_type": "code",
   "execution_count": 16,
   "id": "949f672f",
   "metadata": {},
   "outputs": [],
   "source": [
    "from keras.preprocessing.image import ImageDataGenerator\n",
    "\n",
    "\n",
    "\n"
   ]
  },
  {
   "cell_type": "code",
   "execution_count": 38,
   "id": "ee732324",
   "metadata": {},
   "outputs": [],
   "source": [
    "train_datagen = ImageDataGenerator(rescale=1./255)\n",
    "test_datagen = ImageDataGenerator(rescale=1./255)"
   ]
  },
  {
   "cell_type": "code",
   "execution_count": 39,
   "id": "fa71049b",
   "metadata": {},
   "outputs": [
    {
     "name": "stdout",
     "output_type": "stream",
     "text": [
      "Found 2000 images belonging to 2 classes.\n",
      "Found 1000 images belonging to 2 classes.\n"
     ]
    }
   ],
   "source": [
    "train_generator = train_datagen.flow_from_directory(\n",
    "        train_dir,\n",
    "        target_size=(150,150),\n",
    "        batch_size=20,\n",
    "        class_mode='binary')\n",
    "\n",
    "validation_generator = test_datagen.flow_from_directory(\n",
    "        validation_dir,\n",
    "        target_size=(150,150),\n",
    "        batch_size=20,\n",
    "        class_mode='binary')"
   ]
  },
  {
   "cell_type": "code",
   "execution_count": 40,
   "id": "6aabef8d",
   "metadata": {},
   "outputs": [
    {
     "name": "stdout",
     "output_type": "stream",
     "text": [
      "data batch shape: (20, 150, 150, 3)\n",
      "label batch shape: (20,)\n"
     ]
    }
   ],
   "source": [
    "for data_batch, labels_batch in train_generator:\n",
    "    print('data batch shape:', data_batch.shape)\n",
    "    print('label batch shape:', labels_batch.shape)\n",
    "    break"
   ]
  },
  {
   "cell_type": "code",
   "execution_count": 41,
   "id": "570ff211",
   "metadata": {},
   "outputs": [
    {
     "name": "stdout",
     "output_type": "stream",
     "text": [
      "Epoch 1/30\n"
     ]
    },
    {
     "name": "stderr",
     "output_type": "stream",
     "text": [
      "C:\\Users\\erfan\\AppData\\Local\\Temp\\ipykernel_11100\\2962381116.py:1: UserWarning: `Model.fit_generator` is deprecated and will be removed in a future version. Please use `Model.fit`, which supports generators.\n",
      "  history = model.fit_generator(\n"
     ]
    },
    {
     "name": "stdout",
     "output_type": "stream",
     "text": [
      "100/100 [==============================] - 4s 30ms/step - loss: 0.6901 - acc: 0.5435 - val_loss: 0.6764 - val_acc: 0.5170\n",
      "Epoch 2/30\n",
      "100/100 [==============================] - 3s 29ms/step - loss: 0.6643 - acc: 0.6100 - val_loss: 0.6447 - val_acc: 0.6340\n",
      "Epoch 3/30\n",
      "100/100 [==============================] - 3s 29ms/step - loss: 0.6241 - acc: 0.6600 - val_loss: 0.6085 - val_acc: 0.6720\n",
      "Epoch 4/30\n",
      "100/100 [==============================] - 3s 29ms/step - loss: 0.5787 - acc: 0.7005 - val_loss: 0.6022 - val_acc: 0.6570\n",
      "Epoch 5/30\n",
      "100/100 [==============================] - 3s 29ms/step - loss: 0.5390 - acc: 0.7275 - val_loss: 0.5783 - val_acc: 0.6870\n",
      "Epoch 6/30\n",
      "100/100 [==============================] - 3s 30ms/step - loss: 0.5148 - acc: 0.7500 - val_loss: 0.5568 - val_acc: 0.7110\n",
      "Epoch 7/30\n",
      "100/100 [==============================] - 3s 29ms/step - loss: 0.4839 - acc: 0.7710 - val_loss: 0.5588 - val_acc: 0.7000\n",
      "Epoch 8/30\n",
      "100/100 [==============================] - 3s 30ms/step - loss: 0.4521 - acc: 0.7820 - val_loss: 0.5482 - val_acc: 0.7150\n",
      "Epoch 9/30\n",
      "100/100 [==============================] - 3s 30ms/step - loss: 0.4304 - acc: 0.7920 - val_loss: 0.5470 - val_acc: 0.7310\n",
      "Epoch 10/30\n",
      "100/100 [==============================] - 3s 30ms/step - loss: 0.4095 - acc: 0.8110 - val_loss: 0.5321 - val_acc: 0.7350\n",
      "Epoch 11/30\n",
      "100/100 [==============================] - 3s 30ms/step - loss: 0.3790 - acc: 0.8285 - val_loss: 0.5729 - val_acc: 0.7180\n",
      "Epoch 12/30\n",
      "100/100 [==============================] - 3s 30ms/step - loss: 0.3563 - acc: 0.8445 - val_loss: 0.5636 - val_acc: 0.7290\n",
      "Epoch 13/30\n",
      "100/100 [==============================] - 3s 30ms/step - loss: 0.3280 - acc: 0.8600 - val_loss: 0.5533 - val_acc: 0.7440\n",
      "Epoch 14/30\n",
      "100/100 [==============================] - 3s 29ms/step - loss: 0.3058 - acc: 0.8735 - val_loss: 0.5676 - val_acc: 0.7260\n",
      "Epoch 15/30\n",
      "100/100 [==============================] - 3s 29ms/step - loss: 0.2864 - acc: 0.8880 - val_loss: 0.5816 - val_acc: 0.7390\n",
      "Epoch 16/30\n",
      "100/100 [==============================] - 3s 29ms/step - loss: 0.2707 - acc: 0.8950 - val_loss: 0.5475 - val_acc: 0.7390\n",
      "Epoch 17/30\n",
      "100/100 [==============================] - 3s 29ms/step - loss: 0.2424 - acc: 0.9045 - val_loss: 0.5788 - val_acc: 0.7420\n",
      "Epoch 18/30\n",
      "100/100 [==============================] - 3s 29ms/step - loss: 0.2202 - acc: 0.9145 - val_loss: 0.6015 - val_acc: 0.7240\n",
      "Epoch 19/30\n",
      "100/100 [==============================] - 3s 29ms/step - loss: 0.1999 - acc: 0.9235 - val_loss: 0.6922 - val_acc: 0.7270\n",
      "Epoch 20/30\n",
      "100/100 [==============================] - 3s 30ms/step - loss: 0.1737 - acc: 0.9410 - val_loss: 0.7305 - val_acc: 0.7260\n",
      "Epoch 21/30\n",
      "100/100 [==============================] - 3s 29ms/step - loss: 0.1642 - acc: 0.9465 - val_loss: 0.6851 - val_acc: 0.7360\n",
      "Epoch 22/30\n",
      "100/100 [==============================] - 3s 29ms/step - loss: 0.1399 - acc: 0.9560 - val_loss: 0.7704 - val_acc: 0.7180\n",
      "Epoch 23/30\n",
      "100/100 [==============================] - 3s 30ms/step - loss: 0.1295 - acc: 0.9575 - val_loss: 0.6918 - val_acc: 0.7400\n",
      "Epoch 24/30\n",
      "100/100 [==============================] - 3s 30ms/step - loss: 0.1088 - acc: 0.9685 - val_loss: 0.7263 - val_acc: 0.7520\n",
      "Epoch 25/30\n",
      "100/100 [==============================] - 3s 30ms/step - loss: 0.1002 - acc: 0.9695 - val_loss: 0.8652 - val_acc: 0.7260\n",
      "Epoch 26/30\n",
      "100/100 [==============================] - 3s 30ms/step - loss: 0.0881 - acc: 0.9745 - val_loss: 0.7657 - val_acc: 0.7380\n",
      "Epoch 27/30\n",
      "100/100 [==============================] - 3s 30ms/step - loss: 0.0746 - acc: 0.9780 - val_loss: 0.7985 - val_acc: 0.7400\n",
      "Epoch 28/30\n",
      "100/100 [==============================] - 3s 30ms/step - loss: 0.0619 - acc: 0.9835 - val_loss: 0.8392 - val_acc: 0.7440\n",
      "Epoch 29/30\n",
      "100/100 [==============================] - 3s 30ms/step - loss: 0.0546 - acc: 0.9885 - val_loss: 0.9808 - val_acc: 0.7170\n",
      "Epoch 30/30\n",
      "100/100 [==============================] - 3s 30ms/step - loss: 0.0453 - acc: 0.9895 - val_loss: 0.9410 - val_acc: 0.7270\n"
     ]
    }
   ],
   "source": [
    "history = model.fit_generator(\n",
    "        train_generator,\n",
    "        steps_per_epoch=100,\n",
    "        epochs=30,\n",
    "        validation_data=validation_generator,\n",
    "        validation_steps=50)"
   ]
  },
  {
   "cell_type": "code",
   "execution_count": null,
   "id": "bc0d62cc",
   "metadata": {},
   "outputs": [],
   "source": [
    "model.save('cats_and_dogs_small_1.h5')"
   ]
  },
  {
   "cell_type": "code",
   "execution_count": 42,
   "id": "c2dc8fbf",
   "metadata": {},
   "outputs": [
    {
     "data": {
      "text/plain": [
       "dict_keys(['loss', 'acc', 'val_loss', 'val_acc'])"
      ]
     },
     "execution_count": 42,
     "metadata": {},
     "output_type": "execute_result"
    }
   ],
   "source": [
    "history.history.keys()"
   ]
  },
  {
   "cell_type": "code",
   "execution_count": 17,
   "id": "b77b41f4",
   "metadata": {},
   "outputs": [],
   "source": [
    "import matplotlib.pyplot as plt\n",
    "%matplotlib inline"
   ]
  },
  {
   "cell_type": "code",
   "execution_count": 43,
   "id": "9654419d",
   "metadata": {},
   "outputs": [],
   "source": [
    "loss_value = history.history['loss']\n",
    "acc_value = history.history['acc']\n",
    "val_loss_value = history.history['val_loss']\n",
    "val_acc_value = history.history['val_acc']\n",
    "\n",
    "epochs = range(1,len(loss_value)+1)"
   ]
  },
  {
   "cell_type": "code",
   "execution_count": 44,
   "id": "a4ac4985",
   "metadata": {},
   "outputs": [
    {
     "data": {
      "text/plain": [
       "<matplotlib.legend.Legend at 0x225744e0850>"
      ]
     },
     "execution_count": 44,
     "metadata": {},
     "output_type": "execute_result"
    },
    {
     "data": {
      "image/png": "[encoded data removed]",
      "text/plain": [
       "<Figure size 640x480 with 1 Axes>"
      ]
     },
     "metadata": {},
     "output_type": "display_data"
    }
   ],
   "source": [
    "plt.plot(epochs, acc_value, label='acc')\n",
    "plt.plot(epochs, val_acc_value, label='val acc')\n",
    "plt.xlabel('epochs')\n",
    "plt.ylabel('accuracy')\n",
    "plt.legend()"
   ]
  },
  {
   "cell_type": "code",
   "execution_count": 45,
   "id": "66aa9537",
   "metadata": {},
   "outputs": [
    {
     "data": {
      "text/plain": [
       "<matplotlib.legend.Legend at 0x225746a4a90>"
      ]
     },
     "execution_count": 45,
     "metadata": {},
     "output_type": "execute_result"
    },
    {
     "data": {
      "image/png": "[encoded data removed]",
      "text/plain": [
       "<Figure size 640x480 with 1 Axes>"
      ]
     },
     "metadata": {},
     "output_type": "display_data"
    }
   ],
   "source": [
    "plt.plot(epochs, loss_value, label='loss')\n",
    "plt.plot(epochs, val_loss_value, label='val loss')\n",
    "plt.xlabel('epochs')\n",
    "plt.ylabel('loss')\n",
    "plt.legend()"
   ]
  },
  {
   "cell_type": "code",
   "execution_count": null,
   "id": "a1439021",
   "metadata": {},
   "outputs": [],
   "source": []
  },
  {
   "cell_type": "code",
   "execution_count": null,
   "id": "9ec88428",
   "metadata": {},
   "outputs": [],
   "source": []
  },
  {
   "cell_type": "code",
   "execution_count": null,
   "id": "b28f4325",
   "metadata": {},
   "outputs": [],
   "source": []
  },
  {
   "cell_type": "code",
   "execution_count": null,
   "id": "ef10ece0",
   "metadata": {},
   "outputs": [],
   "source": []
  },
  {
   "cell_type": "code",
   "execution_count": 22,
   "id": "1c76abdd",
   "metadata": {},
   "outputs": [],
   "source": [
    "from keras.preprocessing.image import ImageDataGenerator\n",
    "datagen = ImageDataGenerator(\n",
    "        rotation_range=40,\n",
    "        width_shift_range=0.2,\n",
    "        height_shift_range=0.2,\n",
    "        shear_range=0.2,\n",
    "        zoom_range=0.2,\n",
    "        horizontal_flip=True,\n",
    "        fill_mode='nearest')"
   ]
  },
  {
   "cell_type": "code",
   "execution_count": 23,
   "id": "2974b3e4",
   "metadata": {},
   "outputs": [],
   "source": [
    "from keras.layers import Dropout\n",
    "\n",
    "\n",
    "model = Sequential()\n",
    "model.add(Conv2D(32, (3, 3), activation='relu', input_shape=(150, 150, 3)))\n",
    "model.add(MaxPooling2D((2, 2)))\n",
    "model.add(Conv2D(64, (3, 3), activation='relu'))\n",
    "model.add(MaxPooling2D((2, 2)))\n",
    "model.add(Conv2D(128, (3, 3), activation='relu'))\n",
    "model.add(MaxPooling2D((2, 2)))\n",
    "model.add(Conv2D(128, (3, 3), activation='relu'))\n",
    "model.add(MaxPooling2D((2, 2)))\n",
    "model.add(Flatten())\n",
    "model.add(Dropout(0.5))\n",
    "model.add(Dense(512, activation='relu'))\n",
    "model.add(Dense(1, activation='sigmoid'))"
   ]
  },
  {
   "cell_type": "code",
   "execution_count": 24,
   "id": "749d4639",
   "metadata": {},
   "outputs": [],
   "source": [
    "model.compile(loss='binary_crossentropy',\n",
    "             optimizer=optimizers.RMSprop(learning_rate=1e-4),\n",
    "             metrics=['acc'])"
   ]
  },
  {
   "cell_type": "code",
   "execution_count": 27,
   "id": "d55275e4",
   "metadata": {},
   "outputs": [
    {
     "name": "stdout",
     "output_type": "stream",
     "text": [
      "Found 2000 images belonging to 2 classes.\n",
      "Found 1000 images belonging to 2 classes.\n",
      "Epoch 1/100\n"
     ]
    },
    {
     "name": "stderr",
     "output_type": "stream",
     "text": [
      "C:\\Users\\erfan\\AppData\\Local\\Temp\\ipykernel_11100\\1036620173.py:25: UserWarning: `Model.fit_generator` is deprecated and will be removed in a future version. Please use `Model.fit`, which supports generators.\n",
      "  history = model.fit_generator(\n"
     ]
    },
    {
     "name": "stdout",
     "output_type": "stream",
     "text": [
      "100/100 [==============================] - 7s 61ms/step - loss: 0.6853 - acc: 0.5580 - val_loss: 0.6901 - val_acc: 0.5070\n",
      "Epoch 2/100\n",
      "100/100 [==============================] - 6s 60ms/step - loss: 0.6823 - acc: 0.5645 - val_loss: 0.6593 - val_acc: 0.6270\n",
      "Epoch 3/100\n",
      "100/100 [==============================] - 6s 60ms/step - loss: 0.6787 - acc: 0.5835 - val_loss: 0.6531 - val_acc: 0.6180\n",
      "Epoch 4/100\n",
      "100/100 [==============================] - 6s 61ms/step - loss: 0.6697 - acc: 0.5750 - val_loss: 0.6377 - val_acc: 0.6540\n",
      "Epoch 5/100\n",
      "100/100 [==============================] - 6s 60ms/step - loss: 0.6512 - acc: 0.6165 - val_loss: 0.6770 - val_acc: 0.5660\n",
      "Epoch 6/100\n",
      "100/100 [==============================] - 6s 61ms/step - loss: 0.6487 - acc: 0.6215 - val_loss: 0.6423 - val_acc: 0.6240\n",
      "Epoch 7/100\n",
      "100/100 [==============================] - 6s 60ms/step - loss: 0.6390 - acc: 0.6480 - val_loss: 0.6187 - val_acc: 0.6560\n",
      "Epoch 8/100\n",
      "100/100 [==============================] - 6s 61ms/step - loss: 0.6395 - acc: 0.6360 - val_loss: 0.6169 - val_acc: 0.6510\n",
      "Epoch 9/100\n",
      "100/100 [==============================] - 6s 61ms/step - loss: 0.6261 - acc: 0.6640 - val_loss: 0.5750 - val_acc: 0.7000\n",
      "Epoch 10/100\n",
      "100/100 [==============================] - 6s 61ms/step - loss: 0.6167 - acc: 0.6735 - val_loss: 0.5582 - val_acc: 0.7050\n",
      "Epoch 11/100\n",
      "100/100 [==============================] - 6s 61ms/step - loss: 0.5987 - acc: 0.6840 - val_loss: 0.5545 - val_acc: 0.7160\n",
      "Epoch 12/100\n",
      "100/100 [==============================] - 6s 61ms/step - loss: 0.5962 - acc: 0.6785 - val_loss: 0.5618 - val_acc: 0.7140\n",
      "Epoch 13/100\n",
      "100/100 [==============================] - 6s 62ms/step - loss: 0.5949 - acc: 0.6840 - val_loss: 0.5414 - val_acc: 0.7230\n",
      "Epoch 14/100\n",
      "100/100 [==============================] - 6s 62ms/step - loss: 0.5746 - acc: 0.7115 - val_loss: 0.5759 - val_acc: 0.6780\n",
      "Epoch 15/100\n",
      "100/100 [==============================] - 6s 62ms/step - loss: 0.5760 - acc: 0.6975 - val_loss: 0.5339 - val_acc: 0.7370\n",
      "Epoch 16/100\n",
      "100/100 [==============================] - 6s 61ms/step - loss: 0.5686 - acc: 0.7045 - val_loss: 0.5313 - val_acc: 0.7310\n",
      "Epoch 17/100\n",
      "100/100 [==============================] - 6s 62ms/step - loss: 0.5634 - acc: 0.7115 - val_loss: 0.5103 - val_acc: 0.7340\n",
      "Epoch 18/100\n",
      "100/100 [==============================] - 6s 62ms/step - loss: 0.5712 - acc: 0.6970 - val_loss: 0.5195 - val_acc: 0.7370\n",
      "Epoch 19/100\n",
      "100/100 [==============================] - 6s 62ms/step - loss: 0.5699 - acc: 0.7060 - val_loss: 0.5069 - val_acc: 0.7440\n",
      "Epoch 20/100\n",
      "100/100 [==============================] - 6s 62ms/step - loss: 0.5642 - acc: 0.7070 - val_loss: 0.5177 - val_acc: 0.7270\n",
      "Epoch 21/100\n",
      "100/100 [==============================] - 6s 62ms/step - loss: 0.5538 - acc: 0.7225 - val_loss: 0.5305 - val_acc: 0.7330\n",
      "Epoch 22/100\n",
      "100/100 [==============================] - 6s 62ms/step - loss: 0.5503 - acc: 0.7145 - val_loss: 0.5228 - val_acc: 0.7230\n",
      "Epoch 23/100\n",
      "100/100 [==============================] - 6s 62ms/step - loss: 0.5473 - acc: 0.7175 - val_loss: 0.4912 - val_acc: 0.7470\n",
      "Epoch 24/100\n",
      "100/100 [==============================] - 6s 62ms/step - loss: 0.5436 - acc: 0.7245 - val_loss: 0.4989 - val_acc: 0.7330\n",
      "Epoch 25/100\n",
      "100/100 [==============================] - 6s 62ms/step - loss: 0.5447 - acc: 0.7175 - val_loss: 0.5051 - val_acc: 0.7400\n",
      "Epoch 26/100\n",
      "100/100 [==============================] - 6s 62ms/step - loss: 0.5325 - acc: 0.7215 - val_loss: 0.4980 - val_acc: 0.7370\n",
      "Epoch 27/100\n",
      "100/100 [==============================] - 6s 62ms/step - loss: 0.5184 - acc: 0.7315 - val_loss: 0.4860 - val_acc: 0.7570\n",
      "Epoch 28/100\n",
      "100/100 [==============================] - 6s 62ms/step - loss: 0.5321 - acc: 0.7325 - val_loss: 0.4722 - val_acc: 0.7700\n",
      "Epoch 29/100\n",
      "100/100 [==============================] - 6s 62ms/step - loss: 0.5196 - acc: 0.7455 - val_loss: 0.4640 - val_acc: 0.7750\n",
      "Epoch 30/100\n",
      "100/100 [==============================] - 6s 62ms/step - loss: 0.5110 - acc: 0.7480 - val_loss: 0.4719 - val_acc: 0.7600\n",
      "Epoch 31/100\n",
      "100/100 [==============================] - 6s 62ms/step - loss: 0.5213 - acc: 0.7340 - val_loss: 0.4796 - val_acc: 0.7570\n",
      "Epoch 32/100\n",
      "100/100 [==============================] - 6s 62ms/step - loss: 0.5183 - acc: 0.7410 - val_loss: 0.5278 - val_acc: 0.7300\n",
      "Epoch 33/100\n",
      "100/100 [==============================] - 6s 62ms/step - loss: 0.5146 - acc: 0.7525 - val_loss: 0.4730 - val_acc: 0.7630\n",
      "Epoch 34/100\n",
      "100/100 [==============================] - 6s 62ms/step - loss: 0.5105 - acc: 0.7560 - val_loss: 0.5145 - val_acc: 0.7370\n",
      "Epoch 35/100\n",
      "100/100 [==============================] - 6s 62ms/step - loss: 0.5091 - acc: 0.7565 - val_loss: 0.5165 - val_acc: 0.7440\n",
      "Epoch 36/100\n",
      "100/100 [==============================] - 6s 63ms/step - loss: 0.5039 - acc: 0.7590 - val_loss: 0.4579 - val_acc: 0.7760\n",
      "Epoch 37/100\n",
      "100/100 [==============================] - 6s 62ms/step - loss: 0.5012 - acc: 0.7585 - val_loss: 0.4568 - val_acc: 0.7730\n",
      "Epoch 38/100\n",
      "100/100 [==============================] - 6s 62ms/step - loss: 0.5094 - acc: 0.7470 - val_loss: 0.5110 - val_acc: 0.7300\n",
      "Epoch 39/100\n",
      "100/100 [==============================] - 6s 62ms/step - loss: 0.5059 - acc: 0.7570 - val_loss: 0.4651 - val_acc: 0.7650\n",
      "Epoch 40/100\n",
      "100/100 [==============================] - 6s 63ms/step - loss: 0.4980 - acc: 0.7520 - val_loss: 0.4788 - val_acc: 0.7630\n",
      "Epoch 41/100\n",
      "100/100 [==============================] - 6s 63ms/step - loss: 0.4857 - acc: 0.7525 - val_loss: 0.4678 - val_acc: 0.7850\n",
      "Epoch 42/100\n",
      "100/100 [==============================] - 6s 63ms/step - loss: 0.5075 - acc: 0.7385 - val_loss: 0.4635 - val_acc: 0.7710\n",
      "Epoch 43/100\n",
      "100/100 [==============================] - 6s 63ms/step - loss: 0.4867 - acc: 0.7645 - val_loss: 0.5823 - val_acc: 0.6850\n",
      "Epoch 44/100\n",
      "100/100 [==============================] - 6s 64ms/step - loss: 0.4765 - acc: 0.7615 - val_loss: 0.4913 - val_acc: 0.7490\n",
      "Epoch 45/100\n",
      "100/100 [==============================] - 6s 63ms/step - loss: 0.4897 - acc: 0.7575 - val_loss: 0.5534 - val_acc: 0.7000\n",
      "Epoch 46/100\n",
      "100/100 [==============================] - 6s 63ms/step - loss: 0.4819 - acc: 0.7710 - val_loss: 0.4552 - val_acc: 0.7650\n",
      "Epoch 47/100\n",
      "100/100 [==============================] - 6s 64ms/step - loss: 0.4845 - acc: 0.7720 - val_loss: 0.4377 - val_acc: 0.7860\n",
      "Epoch 48/100\n",
      "100/100 [==============================] - 6s 63ms/step - loss: 0.4898 - acc: 0.7655 - val_loss: 0.4747 - val_acc: 0.7720\n",
      "Epoch 49/100\n",
      "100/100 [==============================] - 6s 64ms/step - loss: 0.4853 - acc: 0.7665 - val_loss: 0.4599 - val_acc: 0.7640\n",
      "Epoch 50/100\n",
      "100/100 [==============================] - 6s 64ms/step - loss: 0.4722 - acc: 0.7825 - val_loss: 0.4669 - val_acc: 0.7870\n",
      "Epoch 51/100\n",
      "100/100 [==============================] - 6s 64ms/step - loss: 0.4689 - acc: 0.7705 - val_loss: 0.4716 - val_acc: 0.7780\n",
      "Epoch 52/100\n",
      "100/100 [==============================] - 6s 64ms/step - loss: 0.4691 - acc: 0.7790 - val_loss: 0.4996 - val_acc: 0.7580\n",
      "Epoch 53/100\n",
      "100/100 [==============================] - 6s 63ms/step - loss: 0.4794 - acc: 0.7710 - val_loss: 0.4330 - val_acc: 0.8020\n",
      "Epoch 54/100\n",
      "100/100 [==============================] - 6s 63ms/step - loss: 0.4589 - acc: 0.7755 - val_loss: 0.4449 - val_acc: 0.8010\n",
      "Epoch 55/100\n",
      "100/100 [==============================] - 7s 65ms/step - loss: 0.4496 - acc: 0.7890 - val_loss: 0.4360 - val_acc: 0.8000\n",
      "Epoch 56/100\n",
      "100/100 [==============================] - 7s 65ms/step - loss: 0.4579 - acc: 0.7845 - val_loss: 0.4684 - val_acc: 0.7760\n",
      "Epoch 57/100\n",
      "100/100 [==============================] - 6s 63ms/step - loss: 0.4649 - acc: 0.7785 - val_loss: 0.4787 - val_acc: 0.7850\n",
      "Epoch 58/100\n",
      "100/100 [==============================] - 6s 63ms/step - loss: 0.4613 - acc: 0.7855 - val_loss: 0.4406 - val_acc: 0.8000\n",
      "Epoch 59/100\n",
      "100/100 [==============================] - 6s 64ms/step - loss: 0.4498 - acc: 0.7850 - val_loss: 0.4540 - val_acc: 0.7930\n",
      "Epoch 60/100\n",
      "100/100 [==============================] - 6s 63ms/step - loss: 0.4479 - acc: 0.7945 - val_loss: 0.4539 - val_acc: 0.7810\n",
      "Epoch 61/100\n",
      "100/100 [==============================] - 6s 64ms/step - loss: 0.4554 - acc: 0.7870 - val_loss: 0.4340 - val_acc: 0.7960\n"
     ]
    },
    {
     "name": "stdout",
     "output_type": "stream",
     "text": [
      "Epoch 62/100\n",
      "100/100 [==============================] - 6s 64ms/step - loss: 0.4515 - acc: 0.7885 - val_loss: 0.4266 - val_acc: 0.7980\n",
      "Epoch 63/100\n",
      "100/100 [==============================] - 6s 63ms/step - loss: 0.4367 - acc: 0.7965 - val_loss: 0.4295 - val_acc: 0.8090\n",
      "Epoch 64/100\n",
      "100/100 [==============================] - 6s 63ms/step - loss: 0.4485 - acc: 0.7905 - val_loss: 0.4683 - val_acc: 0.7890\n",
      "Epoch 65/100\n",
      "100/100 [==============================] - 6s 62ms/step - loss: 0.4376 - acc: 0.7945 - val_loss: 0.4146 - val_acc: 0.8170\n",
      "Epoch 66/100\n",
      "100/100 [==============================] - 6s 62ms/step - loss: 0.4404 - acc: 0.7940 - val_loss: 0.4401 - val_acc: 0.7860\n",
      "Epoch 67/100\n",
      "100/100 [==============================] - 6s 62ms/step - loss: 0.4331 - acc: 0.7985 - val_loss: 0.4211 - val_acc: 0.8040\n",
      "Epoch 68/100\n",
      "100/100 [==============================] - 7s 65ms/step - loss: 0.4338 - acc: 0.8045 - val_loss: 0.4140 - val_acc: 0.8160\n",
      "Epoch 69/100\n",
      "100/100 [==============================] - 6s 64ms/step - loss: 0.4174 - acc: 0.8030 - val_loss: 0.4146 - val_acc: 0.8180\n",
      "Epoch 70/100\n",
      "100/100 [==============================] - 6s 63ms/step - loss: 0.4448 - acc: 0.7785 - val_loss: 0.4121 - val_acc: 0.8140\n",
      "Epoch 71/100\n",
      "100/100 [==============================] - 6s 63ms/step - loss: 0.4313 - acc: 0.8040 - val_loss: 0.4077 - val_acc: 0.8150\n",
      "Epoch 72/100\n",
      "100/100 [==============================] - 6s 63ms/step - loss: 0.4412 - acc: 0.8005 - val_loss: 0.4361 - val_acc: 0.8080\n",
      "Epoch 73/100\n",
      "100/100 [==============================] - 6s 64ms/step - loss: 0.4479 - acc: 0.7960 - val_loss: 0.4511 - val_acc: 0.8010\n",
      "Epoch 74/100\n",
      "100/100 [==============================] - 6s 62ms/step - loss: 0.4217 - acc: 0.8105 - val_loss: 0.5707 - val_acc: 0.7390\n",
      "Epoch 75/100\n",
      "100/100 [==============================] - 6s 64ms/step - loss: 0.4335 - acc: 0.7980 - val_loss: 0.4482 - val_acc: 0.7920\n",
      "Epoch 76/100\n",
      "100/100 [==============================] - 7s 66ms/step - loss: 0.4277 - acc: 0.8035 - val_loss: 0.4321 - val_acc: 0.8110\n",
      "Epoch 77/100\n",
      "100/100 [==============================] - 7s 67ms/step - loss: 0.4182 - acc: 0.8140 - val_loss: 0.3893 - val_acc: 0.8350\n",
      "Epoch 78/100\n",
      "100/100 [==============================] - 7s 66ms/step - loss: 0.4191 - acc: 0.8025 - val_loss: 0.3992 - val_acc: 0.8220\n",
      "Epoch 79/100\n",
      "100/100 [==============================] - 7s 67ms/step - loss: 0.4085 - acc: 0.8055 - val_loss: 0.4748 - val_acc: 0.7840\n",
      "Epoch 80/100\n",
      "100/100 [==============================] - 7s 67ms/step - loss: 0.4177 - acc: 0.8085 - val_loss: 0.4345 - val_acc: 0.8070\n",
      "Epoch 81/100\n",
      "100/100 [==============================] - 7s 66ms/step - loss: 0.4172 - acc: 0.8105 - val_loss: 0.4396 - val_acc: 0.7970\n",
      "Epoch 82/100\n",
      "100/100 [==============================] - 7s 67ms/step - loss: 0.3981 - acc: 0.8125 - val_loss: 0.4084 - val_acc: 0.8190\n",
      "Epoch 83/100\n",
      "100/100 [==============================] - 7s 66ms/step - loss: 0.4019 - acc: 0.8190 - val_loss: 0.4367 - val_acc: 0.8070\n",
      "Epoch 84/100\n",
      "100/100 [==============================] - 6s 63ms/step - loss: 0.3900 - acc: 0.8200 - val_loss: 0.3989 - val_acc: 0.8220\n",
      "Epoch 85/100\n",
      "100/100 [==============================] - 6s 63ms/step - loss: 0.4039 - acc: 0.8115 - val_loss: 0.4682 - val_acc: 0.7900\n",
      "Epoch 86/100\n",
      "100/100 [==============================] - 6s 63ms/step - loss: 0.4186 - acc: 0.8095 - val_loss: 0.4659 - val_acc: 0.7860\n",
      "Epoch 87/100\n",
      "100/100 [==============================] - 6s 62ms/step - loss: 0.4104 - acc: 0.8110 - val_loss: 0.4398 - val_acc: 0.8210\n",
      "Epoch 88/100\n",
      "100/100 [==============================] - 6s 63ms/step - loss: 0.4161 - acc: 0.8115 - val_loss: 0.4069 - val_acc: 0.8320\n",
      "Epoch 89/100\n",
      "100/100 [==============================] - 6s 63ms/step - loss: 0.4106 - acc: 0.8190 - val_loss: 0.4144 - val_acc: 0.8040\n",
      "Epoch 90/100\n",
      "100/100 [==============================] - 6s 63ms/step - loss: 0.4088 - acc: 0.8160 - val_loss: 0.4040 - val_acc: 0.8370\n",
      "Epoch 91/100\n",
      "100/100 [==============================] - 6s 62ms/step - loss: 0.4161 - acc: 0.8060 - val_loss: 0.4872 - val_acc: 0.7820\n",
      "Epoch 92/100\n",
      "100/100 [==============================] - 6s 62ms/step - loss: 0.4051 - acc: 0.8200 - val_loss: 0.3927 - val_acc: 0.8150\n",
      "Epoch 93/100\n",
      "100/100 [==============================] - 6s 64ms/step - loss: 0.3957 - acc: 0.8220 - val_loss: 0.4533 - val_acc: 0.7960\n",
      "Epoch 94/100\n",
      "100/100 [==============================] - 7s 65ms/step - loss: 0.4028 - acc: 0.8230 - val_loss: 0.4128 - val_acc: 0.8060\n",
      "Epoch 95/100\n",
      "100/100 [==============================] - 7s 66ms/step - loss: 0.4056 - acc: 0.8135 - val_loss: 0.4653 - val_acc: 0.7810\n",
      "Epoch 96/100\n",
      "100/100 [==============================] - 7s 65ms/step - loss: 0.3799 - acc: 0.8295 - val_loss: 0.4529 - val_acc: 0.8170\n",
      "Epoch 97/100\n",
      "100/100 [==============================] - 7s 66ms/step - loss: 0.3969 - acc: 0.8265 - val_loss: 0.4066 - val_acc: 0.8240\n",
      "Epoch 98/100\n",
      "100/100 [==============================] - 7s 68ms/step - loss: 0.4053 - acc: 0.8140 - val_loss: 0.3991 - val_acc: 0.8240\n",
      "Epoch 99/100\n",
      "100/100 [==============================] - 7s 67ms/step - loss: 0.4009 - acc: 0.8110 - val_loss: 0.4401 - val_acc: 0.8030\n",
      "Epoch 100/100\n",
      "100/100 [==============================] - 7s 67ms/step - loss: 0.3841 - acc: 0.8295 - val_loss: 0.3829 - val_acc: 0.8270\n"
     ]
    }
   ],
   "source": [
    "train_datagen = ImageDataGenerator(\n",
    "        rescale=1./255,\n",
    "        rotation_range=40,\n",
    "        width_shift_range=0.2,\n",
    "        height_shift_range=0.2,\n",
    "        shear_range=0.2,\n",
    "        zoom_range=0.2,\n",
    "        horizontal_flip=True)\n",
    "\n",
    "test_datagen = ImageDataGenerator(rescale=1./255)\n",
    "\n",
    "\n",
    "train_generator = train_datagen.flow_from_directory(\n",
    "        train_dir,\n",
    "        target_size=(150,150),\n",
    "        batch_size=20,\n",
    "        class_mode='binary')\n",
    "\n",
    "validation_generator = test_datagen.flow_from_directory(\n",
    "        validation_dir,\n",
    "        target_size=(150, 150),\n",
    "        batch_size=20,\n",
    "        class_mode='binary')\n",
    "\n",
    "history = model.fit_generator(\n",
    "        train_generator,\n",
    "        steps_per_epoch=100,\n",
    "        epochs=100,\n",
    "        validation_data=validation_generator,\n",
    "        validation_steps=50)\n",
    "# train_generator = train_datagen.flow_from_directory(\n",
    "#         rescale=1./255,\n",
    "#         rotation_range=40,\n",
    "#         width_shift_range=0.2,\n",
    "#         height_shift_range=0.2,\n",
    "#         shear_range=0.2,\n",
    "#         zoom_range=0.2,\n",
    "#         horizontal_flip=True,\n",
    "#         fill_mode='nearest')\n",
    "\n",
    "# test_datagen = ImageDataGenerator(rescale=1./255)\n",
    "\n",
    "# train_generator = train_datagen.flow_from_directory(\n",
    "#         train_dir,\n",
    "#         target_size=(150,150),\n",
    "#         batch_size=20,\n",
    "#         class_mode='binary')\n",
    "\n",
    "# validation_generator = test_datagen.flow_from_directory(\n",
    "#         validation_dir,\n",
    "#         target_size=(150,150),\n",
    "#         batch_size=20,\n",
    "#         class_mode='binary')"
   ]
  },
  {
   "cell_type": "code",
   "execution_count": 28,
   "id": "f1d0e504",
   "metadata": {},
   "outputs": [],
   "source": [
    "# history = model.fit_generator(\n",
    "#         train_generator,\n",
    "#         steps_per_epoch=100,\n",
    "#         epochs=30,\n",
    "#         validation_data=validation_generator,\n",
    "#         validation_steps=50)"
   ]
  },
  {
   "cell_type": "code",
   "execution_count": 29,
   "id": "1ac4b5a8",
   "metadata": {},
   "outputs": [],
   "source": [
    "loss_value = history.history['loss']\n",
    "acc_value = history.history['acc']\n",
    "val_loss_value = history.history['val_loss']\n",
    "val_acc_value = history.history['val_acc']\n",
    "\n",
    "epochs = range(1,len(loss_value)+1)"
   ]
  },
  {
   "cell_type": "code",
   "execution_count": 30,
   "id": "ddff3a41",
   "metadata": {},
   "outputs": [
    {
     "data": {
      "text/plain": [
       "<matplotlib.legend.Legend at 0x22562ab7e80>"
      ]
     },
     "execution_count": 30,
     "metadata": {},
     "output_type": "execute_result"
    },
    {
     "data": {
      "image/png": "[encoded data removed]",
      "text/plain": [
       "<Figure size 640x480 with 1 Axes>"
      ]
     },
     "metadata": {},
     "output_type": "display_data"
    }
   ],
   "source": [
    "plt.plot(epochs, acc_value, label='acc')\n",
    "plt.plot(epochs, val_acc_value, label='val acc')\n",
    "plt.xlabel('epochs')\n",
    "plt.ylabel('accuracy')\n",
    "plt.legend()"
   ]
  },
  {
   "cell_type": "code",
   "execution_count": 31,
   "id": "72337336",
   "metadata": {},
   "outputs": [
    {
     "data": {
      "text/plain": [
       "<matplotlib.legend.Legend at 0x22562cbfd30>"
      ]
     },
     "execution_count": 31,
     "metadata": {},
     "output_type": "execute_result"
    },
    {
     "data": {
      "image/png": "[encoded data removed]",
      "text/plain": [
       "<Figure size 640x480 with 1 Axes>"
      ]
     },
     "metadata": {},
     "output_type": "display_data"
    }
   ],
   "source": [
    "plt.plot(epochs, loss_value, label='loss')\n",
    "plt.plot(epochs, val_loss_value, label='val loss')\n",
    "plt.xlabel('epochs')\n",
    "plt.ylabel('loss')\n",
    "plt.legend()"
   ]
  },
  {
   "cell_type": "code",
   "execution_count": null,
   "id": "6c9b1895",
   "metadata": {},
   "outputs": [],
   "source": []
  },
  {
   "cell_type": "code",
   "execution_count": null,
   "id": "1593d39b",
   "metadata": {},
   "outputs": [],
   "source": []
  }
 ],
 "metadata": {
  "kernelspec": {
   "display_name": "Python 3 (ipykernel)",
   "language": "python",
   "name": "python3"
  },
  "language_info": {
   "codemirror_mode": {
    "name": "ipython",
    "version": 3
   },
   "file_extension": ".py",
   "mimetype": "text/x-python",
   "name": "python",
   "nbconvert_exporter": "python",
   "pygments_lexer": "ipython3",
   "version": "3.9.13"
  }
 },
 "nbformat": 4,
 "nbformat_minor": 5
}
